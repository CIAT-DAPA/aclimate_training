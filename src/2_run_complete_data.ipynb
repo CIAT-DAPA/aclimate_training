{
 "cells": [
  {
   "cell_type": "code",
   "execution_count": 6,
   "metadata": {},
   "outputs": [
    {
     "name": "stdout",
     "output_type": "stream",
     "text": [
      "Preparing enviroment\n",
      "Validating folders needed for ethiopia in C:\\Users\\lllanos\\py_notebooks\\example_workshop\\\n",
      "Init: 2023-10-01 00:00:00 End: 2023-10-31 00:00:00 Year: 2023 Month: 10\n",
      "Env prepared\n",
      "CHIRPS data started!\n",
      "C:\\Users\\lllanos\\py_notebooks\\example_workshop\\ethiopia\\inputs\\climatePrediction\\daily_downloaded\n",
      "\tFile already downloaded! C:\\Users\\lllanos\\py_notebooks\\example_workshop\\ethiopia\\inputs\\climatePrediction\\daily_downloaded\\chirp\\chirp.2023.10.01.tif.gz\n",
      "\tFile already downloaded! C:\\Users\\lllanos\\py_notebooks\\example_workshop\\ethiopia\\inputs\\climatePrediction\\daily_downloaded\\chirp\\chirp.2023.10.02.tif.gz\n",
      "\tFile already downloaded! C:\\Users\\lllanos\\py_notebooks\\example_workshop\\ethiopia\\inputs\\climatePrediction\\daily_downloaded\\chirp\\chirp.2023.10.03.tif.gz\n",
      "\tFile already downloaded! C:\\Users\\lllanos\\py_notebooks\\example_workshop\\ethiopia\\inputs\\climatePrediction\\daily_downloaded\\chirp\\chirp.2023.10.04.tif.gz\n",
      "\tFile already downloaded! C:\\Users\\lllanos\\py_notebooks\\example_workshop\\ethiopia\\inputs\\climatePrediction\\daily_downloaded\\chirp\\chirp.2023.10.05.tif.gz\n",
      "\tFile already downloaded! C:\\Users\\lllanos\\py_notebooks\\example_workshop\\ethiopia\\inputs\\climatePrediction\\daily_downloaded\\chirp\\chirp.2023.10.06.tif.gz\n",
      "\tFile already downloaded! C:\\Users\\lllanos\\py_notebooks\\example_workshop\\ethiopia\\inputs\\climatePrediction\\daily_downloaded\\chirp\\chirp.2023.10.07.tif.gz\n",
      "\tFile already downloaded! C:\\Users\\lllanos\\py_notebooks\\example_workshop\\ethiopia\\inputs\\climatePrediction\\daily_downloaded\\chirp\\chirp.2023.10.10.tif.gz\n",
      "\tFile already downloaded! C:\\Users\\lllanos\\py_notebooks\\example_workshop\\ethiopia\\inputs\\climatePrediction\\daily_downloaded\\chirp\\chirp.2023.10.09.tif.gz\n",
      "\tFile already downloaded! C:\\Users\\lllanos\\py_notebooks\\example_workshop\\ethiopia\\inputs\\climatePrediction\\daily_downloaded\\chirp\\chirp.2023.10.08.tif.gz\n",
      "\tFile already downloaded! C:\\Users\\lllanos\\py_notebooks\\example_workshop\\ethiopia\\inputs\\climatePrediction\\daily_downloaded\\chirp\\chirp.2023.10.11.tif.gz\n",
      "\tFile already downloaded! C:\\Users\\lllanos\\py_notebooks\\example_workshop\\ethiopia\\inputs\\climatePrediction\\daily_downloaded\\chirp\\chirp.2023.10.13.tif.gz\n",
      "\tFile already downloaded! C:\\Users\\lllanos\\py_notebooks\\example_workshop\\ethiopia\\inputs\\climatePrediction\\daily_downloaded\\chirp\\chirp.2023.10.12.tif.gz\n",
      "\tFile already downloaded! C:\\Users\\lllanos\\py_notebooks\\example_workshop\\ethiopia\\inputs\\climatePrediction\\daily_downloaded\\chirp\\chirp.2023.10.14.tif.gz\n",
      "\tFile already downloaded! C:\\Users\\lllanos\\py_notebooks\\example_workshop\\ethiopia\\inputs\\climatePrediction\\daily_downloaded\\chirp\\chirp.2023.10.15.tif.gz\n",
      "\tFile already downloaded! C:\\Users\\lllanos\\py_notebooks\\example_workshop\\ethiopia\\inputs\\climatePrediction\\daily_downloaded\\chirp\\chirp.2023.10.16.tif.gz\n",
      "\tFile already downloaded! C:\\Users\\lllanos\\py_notebooks\\example_workshop\\ethiopia\\inputs\\climatePrediction\\daily_downloaded\\chirp\\chirp.2023.10.17.tif.gz\n",
      "\tFile already downloaded! C:\\Users\\lllanos\\py_notebooks\\example_workshop\\ethiopia\\inputs\\climatePrediction\\daily_downloaded\\chirp\\chirp.2023.10.18.tif.gz\n",
      "\tFile already downloaded! C:\\Users\\lllanos\\py_notebooks\\example_workshop\\ethiopia\\inputs\\climatePrediction\\daily_downloaded\\chirp\\chirp.2023.10.19.tif.gz\n",
      "\tFile already downloaded! C:\\Users\\lllanos\\py_notebooks\\example_workshop\\ethiopia\\inputs\\climatePrediction\\daily_downloaded\\chirp\\chirp.2023.10.20.tif.gz\n",
      "\tFile already downloaded! C:\\Users\\lllanos\\py_notebooks\\example_workshop\\ethiopia\\inputs\\climatePrediction\\daily_downloaded\\chirp\\chirp.2023.10.22.tif.gz\n",
      "\tFile already downloaded! C:\\Users\\lllanos\\py_notebooks\\example_workshop\\ethiopia\\inputs\\climatePrediction\\daily_downloaded\\chirp\\chirp.2023.10.23.tif.gz\n",
      "\tFile already downloaded! C:\\Users\\lllanos\\py_notebooks\\example_workshop\\ethiopia\\inputs\\climatePrediction\\daily_downloaded\\chirp\\chirp.2023.10.21.tif.gz\n",
      "\tFile already downloaded! C:\\Users\\lllanos\\py_notebooks\\example_workshop\\ethiopia\\inputs\\climatePrediction\\daily_downloaded\\chirp\\chirp.2023.10.25.tif.gz\n",
      "\tFile already downloaded! C:\\Users\\lllanos\\py_notebooks\\example_workshop\\ethiopia\\inputs\\climatePrediction\\daily_downloaded\\chirp\\chirp.2023.10.26.tif.gz\n",
      "\tFile already downloaded! C:\\Users\\lllanos\\py_notebooks\\example_workshop\\ethiopia\\inputs\\climatePrediction\\daily_downloaded\\chirp\\chirp.2023.10.24.tif.gz\n",
      "\tFile already downloaded! C:\\Users\\lllanos\\py_notebooks\\example_workshop\\ethiopia\\inputs\\climatePrediction\\daily_downloaded\\chirp\\chirp.2023.10.27.tif.gz\n",
      "\tFile already downloaded! C:\\Users\\lllanos\\py_notebooks\\example_workshop\\ethiopia\\inputs\\climatePrediction\\daily_downloaded\\chirp\\chirp.2023.10.28.tif.gz\n",
      "\tFile already downloaded! C:\\Users\\lllanos\\py_notebooks\\example_workshop\\ethiopia\\inputs\\climatePrediction\\daily_downloaded\\chirp\\chirp.2023.10.30.tif.gz\n",
      "\tFile already downloaded! C:\\Users\\lllanos\\py_notebooks\\example_workshop\\ethiopia\\inputs\\climatePrediction\\daily_downloaded\\chirp\\chirp.2023.10.31.tif.gz\n",
      "\tFile already downloaded! C:\\Users\\lllanos\\py_notebooks\\example_workshop\\ethiopia\\inputs\\climatePrediction\\daily_downloaded\\chirp\\chirp.2023.10.29.tif.gz\n",
      "CHIRPS data downloaded!\n",
      "ERA 5 data started!\n",
      "\tProcesing t_max\n",
      "\tFile already downloaded! C:\\Users\\lllanos\\py_notebooks\\example_workshop\\ethiopia\\inputs\\climatePrediction\\daily_downloaded\\era5\\t_max.zip\n",
      "\tFiles already extracted! C:\\Users\\lllanos\\py_notebooks\\example_workshop\\ethiopia\\inputs\\climatePrediction\\daily_downloaded\\era5\\t_max_tmp\n",
      "\tFiles already transformed! C:\\Users\\lllanos\\py_notebooks\\example_workshop\\ethiopia\\inputs\\climatePrediction\\daily_downloaded\\era5\\t_max\n",
      "\tProcesing t_min\n",
      "\tFile already downloaded! C:\\Users\\lllanos\\py_notebooks\\example_workshop\\ethiopia\\inputs\\climatePrediction\\daily_downloaded\\era5\\t_min.zip\n",
      "\tFiles already extracted! C:\\Users\\lllanos\\py_notebooks\\example_workshop\\ethiopia\\inputs\\climatePrediction\\daily_downloaded\\era5\\t_min_tmp\n",
      "\tFiles already transformed! C:\\Users\\lllanos\\py_notebooks\\example_workshop\\ethiopia\\inputs\\climatePrediction\\daily_downloaded\\era5\\t_min\n",
      "\tProcesing sol_rad\n",
      "\tFile already downloaded! C:\\Users\\lllanos\\py_notebooks\\example_workshop\\ethiopia\\inputs\\climatePrediction\\daily_downloaded\\era5\\sol_rad.zip\n",
      "\tFiles already extracted! C:\\Users\\lllanos\\py_notebooks\\example_workshop\\ethiopia\\inputs\\climatePrediction\\daily_downloaded\\era5\\sol_rad_tmp\n",
      "\tFiles already transformed! C:\\Users\\lllanos\\py_notebooks\\example_workshop\\ethiopia\\inputs\\climatePrediction\\daily_downloaded\\era5\\sol_rad\n",
      "ERA 5 data downloaded!\n",
      "Listing stations\n",
      "Listed stations\n",
      "Adding data started!\n",
      "Extracting CHIRP data\n"
     ]
    },
    {
     "name": "stderr",
     "output_type": "stream",
     "text": [
      "Extracting prec: 100%|██████████| 31/31 [00:07<00:00,  4.15it/s]\n"
     ]
    },
    {
     "name": "stdout",
     "output_type": "stream",
     "text": [
      "         ws  day  month  year      prec\n",
      "0  woyalita    1     10  2023  6.293154\n",
      "1  woyalita    2     10  2023  6.258127\n",
      "2  woyalita    3     10  2023  1.379981\n",
      "3  woyalita    4     10  2023  2.313288\n",
      "4  woyalita    5     10  2023  2.119279\n",
      "Extracted CHIRP data\n",
      "Extracting ERA 5 data\n"
     ]
    },
    {
     "name": "stderr",
     "output_type": "stream",
     "text": [
      "Extracting t_max: 100%|██████████| 31/31 [00:01<00:00, 16.79it/s]\n",
      "Extracting t_min: 100%|██████████| 31/31 [00:01<00:00, 20.06it/s]\n",
      "Extracting sol_rad: 100%|██████████| 31/31 [00:04<00:00,  7.35it/s]\n"
     ]
    },
    {
     "name": "stdout",
     "output_type": "stream",
     "text": [
      "         ws  day  month  year      t_max      t_min    sol_rad\n",
      "0  woyalita    1     10  2023  22.290070  14.168640  20.691052\n",
      "1  woyalita    2     10  2023  22.293518  13.563416  20.915856\n",
      "2  woyalita    3     10  2023  21.127991  14.056671  15.634527\n",
      "3  woyalita    4     10  2023  22.935516  13.972015  22.653320\n",
      "4  woyalita    5     10  2023  21.630249  14.239685  18.656206\n",
      "Extracted ERA 5 data\n",
      "Merging CHIRPS and ERA 5\n",
      "Merged CHIRPS and ERA 5\n",
      "Extracting Climatology data\n"
     ]
    },
    {
     "name": "stderr",
     "output_type": "stream",
     "text": [
      "Calculating climatology: 100%|██████████| 1/1 [00:00<00:00, 18.00it/s]\n"
     ]
    },
    {
     "name": "stdout",
     "output_type": "stream",
     "text": [
      "Extracted Climatology data\n",
      "Writing scenarios\n"
     ]
    },
    {
     "name": "stderr",
     "output_type": "stream",
     "text": [
      "Writing scenarios: 100%|██████████| 1/1 [00:01<00:00,  2.00s/it]"
     ]
    },
    {
     "name": "stdout",
     "output_type": "stream",
     "text": [
      "Finished\n",
      "Added data!\n",
      "Process finished\n"
     ]
    },
    {
     "name": "stderr",
     "output_type": "stream",
     "text": [
      "\n"
     ]
    }
   ],
   "source": [
    "##########################################\n",
    "# Testing complete data\n",
    "##########################################\n",
    "import datetime\n",
    "import pandas as pd\n",
    "import sys\n",
    "import os\n",
    " \n",
    "#sys.path.insert(0, os.path.abspath(os.path.join(os.path.dirname(__file__), '..')))\n",
    " \n",
    "from download_previous_data import CompleteData\n",
    " \n",
    "if __name__ == '__main__':\n",
    "    country = \"ethiopia\"\n",
    "    path = \"C:\\\\Users\\\\lllanos\\\\py_notebooks\\\\example_workshop\\\\\" # Root path for the resampling\n",
    "    months_previous = 1 # lag \n",
    "    start_date = (datetime.date.today() - pd.DateOffset(months=months_previous)).replace(day=1)\n",
    "    cores = 4\n",
    "    dd = CompleteData(start_date,country,path,cores=cores)\n",
    "    dd.run()"
   ]
  }
 ],
 "metadata": {
  "kernelspec": {
   "display_name": "seaborn",
   "language": "python",
   "name": "python3"
  },
  "language_info": {
   "codemirror_mode": {
    "name": "ipython",
    "version": 3
   },
   "file_extension": ".py",
   "mimetype": "text/x-python",
   "name": "python",
   "nbconvert_exporter": "python",
   "pygments_lexer": "ipython3",
   "version": "3.10.12"
  }
 },
 "nbformat": 4,
 "nbformat_minor": 2
}
