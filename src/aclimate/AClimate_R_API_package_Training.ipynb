{
  "nbformat": 4,
  "nbformat_minor": 0,
  "metadata": {
    "colab": {
      "provenance": []
    },
    "kernelspec": {
      "name": "ir",
      "display_name": "R"
    },
    "language_info": {
      "name": "R"
    }
  },
  "cells": [
    {
      "cell_type": "markdown",
      "source": [
        "# Install R Package\n",
        "\n",
        "In this section you will see the code to install the R package"
      ],
      "metadata": {
        "id": "so-kXq034CZa"
      }
    },
    {
      "cell_type": "code",
      "execution_count": null,
      "metadata": {
        "id": "c3x3VUxt307Q"
      },
      "outputs": [],
      "source": [
        "devtools::install_github(\"CIAT-DAPA/aclimaterapi\")"
      ]
    },
    {
      "cell_type": "markdown",
      "source": [
        "# Configure the environment\n",
        "You should follow the following steps:\n",
        "1. Load the package\n",
        "2. During the time that you will work with the package, you should keep some global variables"
      ],
      "metadata": {
        "id": "EU6p5MSy4_Qn"
      }
    },
    {
      "cell_type": "code",
      "source": [
        "# Load Library\n",
        "library(\"aclimaterapi\")\n",
        "\n",
        "# Setting the url where the AClimate app is running\n",
        "url_root = \"https://webapi.aclimate.org/api/\"\n"
      ],
      "metadata": {
        "id": "xkznyzP9598R"
      },
      "execution_count": null,
      "outputs": []
    },
    {
      "cell_type": "markdown",
      "source": [
        "# Get information about locations\n",
        "\n",
        "One of the most important steps is to identify the place about we want extracting information. In this section you will learn how identify the countries and weather stations (locations) available in AClimate.\n",
        "\n",
        "You should aim the following challenges:\n",
        "* Filter one country\n",
        "* Get weather stations for one country\n",
        "* Filter weather stations for one municipality"
      ],
      "metadata": {
        "id": "Z2oZBkls6d-b"
      }
    },
    {
      "cell_type": "code",
      "source": [
        "# Get countries\n",
        "df_countries = get_geographic_country(url_root)\n",
        "print(df_countries)"
      ],
      "metadata": {
        "id": "gOHjSGrN7Mxu"
      },
      "execution_count": null,
      "outputs": []
    },
    {
      "cell_type": "code",
      "source": [
        "# Filter one country from df_countries and save the ID in the variable my_country (string)\n",
        "\n",
        "df_countries_f = df_countries[df_countries[\"iso2\"] == \"PE\",]\n",
        "\n",
        "print(my_country)"
      ],
      "metadata": {
        "id": "QhgL8pJ17nMn"
      },
      "execution_count": null,
      "outputs": []
    },
    {
      "cell_type": "code",
      "source": [
        "# Use the dataframe df_ws and filter stations for one municipality in the dataframe df_ws_targeted\n",
        "df_ws = get_geographic(url_root,my_country)\n",
        "\n",
        "\n",
        "print(df_ws_targeted)"
      ],
      "metadata": {
        "id": "w7MzGi4j9z9k"
      },
      "execution_count": null,
      "outputs": []
    },
    {
      "cell_type": "markdown",
      "source": [
        "# Get historical data\n",
        "Historical data allow to users access to historical climatic data. In this section you will learn how extract different climatic variables available in AClimate.\n",
        "\n",
        "You should aim the following challenges:\n",
        "* Get climatology\n",
        "* Get historical monthly data"
      ],
      "metadata": {
        "id": "-k4_rmDHdjbF"
      }
    },
    {
      "cell_type": "code",
      "source": [
        "# Extract the IDS of weather stations into an array called ws_ids\n",
        "df_climatology = get_historical_climatology(url_root,ws_ids)\n",
        "\n",
        "print(df_climatology)"
      ],
      "metadata": {
        "id": "D5jx3txDdnE3"
      },
      "execution_count": null,
      "outputs": []
    },
    {
      "cell_type": "code",
      "source": [
        "# Extract the IDS of weather stations into an array called ws_ids\n",
        "df_historical = get_historical_historicalclimatic(url_root,ws_ids)\n",
        "\n",
        "print(df_historical)"
      ],
      "metadata": {
        "id": "ZZGLpmtjd5z-"
      },
      "execution_count": null,
      "outputs": []
    },
    {
      "cell_type": "markdown",
      "source": [
        "# Get forecast\n",
        " Once you identified the locations in which you want to analyze, you can get the forecast for climate and agroclimatic for those locations"
      ],
      "metadata": {
        "id": "NaPyn6GQTYDm"
      }
    },
    {
      "cell_type": "code",
      "source": [
        "# Extract the IDS of weather stations into an array called ws_ids\n",
        "\n",
        "df_forecast_climate = get_forecast_climate(url_root,ws_ids)\n",
        "\n",
        "print(head(df_forecast_climate$probabilities))\n",
        "print(head(df_forecast_climate$performance))\n",
        "print(head(df_forecast_climate$scenarios))"
      ],
      "metadata": {
        "id": "R3LwulJeTi5-"
      },
      "execution_count": null,
      "outputs": []
    },
    {
      "cell_type": "code",
      "source": [
        "# Extract the IDS of weather stations into an array ws_ids\n",
        "df_forecast_crop = get_forecast_crop(url_root,ws_ids)\n",
        "\n",
        "print(head(df_forecast_crop))"
      ],
      "metadata": {
        "id": "RhqNYL7tYUcL"
      },
      "execution_count": null,
      "outputs": []
    }
  ]
}